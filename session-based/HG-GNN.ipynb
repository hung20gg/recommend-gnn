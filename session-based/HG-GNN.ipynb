{
 "cells": [
  {
   "cell_type": "code",
   "execution_count": null,
   "metadata": {},
   "outputs": [],
   "source": [
    "!pip install -qq dgl-cu110 dglgo -f https://data.dgl.ai/wheels/repo.html &>/dev/null"
   ]
  },
  {
   "cell_type": "code",
   "execution_count": null,
   "metadata": {},
   "outputs": [],
   "source": [
    "import pandas as pd\n",
    "import numpy as np\n",
    "import cudf\n",
    "from pandas import Timedelta\n",
    "import os\n",
    "from tqdm.notebook import tqdm\n",
    "import pickle\n",
    "from torch.utils.data import Dataset, DataLoader\n",
    "import math\n",
    "from operator import itemgetter\n",
    "import dgl\n",
    "pd.set_option('display.max_rows', 10000)"
   ]
  },
  {
   "cell_type": "markdown",
   "metadata": {},
   "source": [
    "### Dataset\n",
    "[Last-FM](https://www.kaggle.com/datasets/japarra27/lastfm-dataset)"
   ]
  },
  {
   "cell_type": "code",
   "execution_count": null,
   "metadata": {},
   "outputs": [],
   "source": [
    "data = cudf.read_parquet('/data/items.parquet')\n",
    "len(data)"
   ]
  },
  {
   "cell_type": "code",
   "execution_count": null,
   "metadata": {},
   "outputs": [],
   "source": [
    "data.head()"
   ]
  },
  {
   "cell_type": "code",
   "execution_count": null,
   "metadata": {},
   "outputs": [],
   "source": [
    "print(f\" # Unique User : {data['user_id'].nunique()}, # Unique Artist : {data['artist_id'].nunique()}\")"
   ]
  },
  {
   "cell_type": "markdown",
   "metadata": {},
   "source": [
    "## Create session with interval of 6 hours"
   ]
  },
  {
   "cell_type": "markdown",
   "metadata": {},
   "source": [
    "Utilities function"
   ]
  },
  {
   "cell_type": "code",
   "execution_count": null,
   "metadata": {},
   "outputs": [],
   "source": [
    "def get_session_id(df, session):\n",
    "    # If the next row have different user_id or the time difference is greater than session, then it is a new session\n",
    "    df_prev = df.shift(1)\n",
    "    is_new_session = (df['user_id'] != df_prev['user_id']) | (df['timestamp'] - df_prev['timestamp'] > session)\n",
    "    session_id = is_new_session.cumsum()-1\n",
    "    return session_id\n",
    "\n",
    "def group_session(df, session):\n",
    "    df['session_id'] = get_session_id(df, session)\n",
    "    return df\n",
    "\n",
    "def filter_short_session(df, min_session_length=2):\n",
    "    session_length = df.groupby('session_id').size()\n",
    "    session_length = session_length[session_length >= min_session_length]\n",
    "    return df[df['session_id'].isin(session_length.index)]\n",
    "\n",
    "def filter_infrequent_item(df, min_item_support=5):\n",
    "    item_support = df.groupby('itemId').size()\n",
    "    item_support = item_support[item_support >= min_item_support]\n",
    "    return df[df['itemId'].isin(item_support.index)]\n",
    "\n",
    "def filter_until_ok(df, min_session_length=2, min_item_support=5):\n",
    "    while True:\n",
    "        before = len(df)\n",
    "        df = filter_short_session(df, min_session_length)\n",
    "        df = filter_infrequent_item(df, min_item_support)\n",
    "        after = len(df)\n",
    "        if before == after:\n",
    "            break\n",
    "    return df\n",
    "\n",
    "def trucate_session(df, session_length=20):\n",
    "    df = df.sort_values(['session_id', 'timestamp'])\n",
    "    item_idx = df.groupby('session_id').cumcount()\n",
    "    return df[item_idx < session_length]\n",
    "\n",
    "def update_id(df, field):\n",
    "    labels = cudf.factorize(df[field])[0]\n",
    "    kwargs = {field: labels}\n",
    "    df = df.assign(**kwargs)\n",
    "    return df\n",
    "\n",
    "\n",
    "def remove_immediate_repeats(df):\n",
    "    df_prev = df.shift()\n",
    "    is_not_repeat = (df['session_id'] != df_prev['session_id']) | (df['itemId'] != df_prev['itemId'])\n",
    "    return df[is_not_repeat]\n",
    "    \n",
    "def reorder_sessions(df):\n",
    "    df_endtime  = df.groupby('session_id')['timestamp'].max().sort_value().reset_index()\n",
    "    oid2nid = dict(zip(df_endtime['session_id'], df_endtime.index))\n",
    "    df['session_id'].map(oid2nid, inplace=True)\n",
    "    df.sort_values(['session_id', 'timestamp'], inplace=True)\n",
    "    return df\n",
    "\n",
    "def keep_top_n_items(df, n=40000):\n",
    "    item_support = df.groupby('itemId').size()\n",
    "    top_n_items = item_support.nlargest(n).index\n",
    "    return df[df['itemId'].isin(top_n_items)]\n",
    "\n",
    "def train_test_split(df, test_size=0.2):\n",
    "    endtime  = df.groupby('session_id')['timestamp'].max().sort_values()\n",
    "    num_test = int(len(endtime) * test_size)\n",
    "    test_sessions = endtime.index[-num_test:]\n",
    "    df_train = df[~df['session_id'].isin(test_sessions)]\n",
    "    df_test = df[df['session_id'].isin(test_sessions)]\n",
    "    return df_train, df_test\n",
    "    \n",
    "def save_sessions(df, filepath='data/sessions.txt'):\n",
    "    df = reorder_sessions(df)\n",
    "    sessions = df.groupby('session_id').itemId.apply(lambda x: ','.join(map(str, x)))\n",
    "    sessions.to_csv(filepath, sep='\\t', header=False, index=False)"
   ]
  },
  {
   "cell_type": "code",
   "execution_count": null,
   "metadata": {},
   "outputs": [],
   "source": []
  }
 ],
 "metadata": {
  "kernelspec": {
   "display_name": "Python 3",
   "language": "python",
   "name": "python3"
  },
  "language_info": {
   "codemirror_mode": {
    "name": "ipython",
    "version": 3
   },
   "file_extension": ".py",
   "mimetype": "text/x-python",
   "name": "python",
   "nbconvert_exporter": "python",
   "pygments_lexer": "ipython3",
   "version": "3.11.6"
  }
 },
 "nbformat": 4,
 "nbformat_minor": 2
}
